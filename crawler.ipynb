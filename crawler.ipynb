{
 "cells": [
  {
   "cell_type": "code",
   "execution_count": 21,
   "id": "03df897a",
   "metadata": {},
   "outputs": [],
   "source": [
    "import csv\n",
    "from selenium import webdriver\n",
    "from selenium.webdriver.common.keys import Keys"
   ]
  },
  {
   "cell_type": "code",
   "execution_count": 22,
   "id": "3bf36b3e",
   "metadata": {},
   "outputs": [],
   "source": [
    "chromedriver_path = r'C:\\Users\\xiaqi\\Downloads\\chromedriver_win32\\chromedriver.exe'"
   ]
  },
  {
   "cell_type": "markdown",
   "id": "49abf4f3",
   "metadata": {},
   "source": [
    "The r before the string in chromedriver_path is called a \"raw string\" prefix in Python. It is used to treat the string as a \"raw\" string literal, meaning that backslashes (\\) within the string are treated as literal characters rather than escape characters."
   ]
  },
  {
   "cell_type": "code",
   "execution_count": 23,
   "id": "b2547768",
   "metadata": {},
   "outputs": [],
   "source": [
    "driver = webdriver.Chrome(executable_path=chromedriver_path)"
   ]
  },
  {
   "cell_type": "markdown",
   "id": "c57d154e",
   "metadata": {},
   "source": [
    "webdriver.Chrome creates an instance of the Chrome WebDriver in Selenium. This allows you to automate and control the Chrome browser using Python.\n",
    "\n",
    "executable_path=chromedriver_path is an argument passed to the webdriver.Chrome constructor. It specifies the path to the Chromedriver executable file on your system. This is required for Selenium to know where to find the Chromedriver binary."
   ]
  },
  {
   "cell_type": "markdown",
   "id": "8a41150c",
   "metadata": {},
   "source": [
    "By providing the executable_path argument with the correct path to the Chromedriver executable, Selenium will be able to launch an instance of the Chrome browser using the specified Chromedriver."
   ]
  },
  {
   "cell_type": "code",
   "execution_count": 24,
   "id": "245dc71f",
   "metadata": {},
   "outputs": [],
   "source": [
    "driver.get('https://www.amazon.com')"
   ]
  },
  {
   "cell_type": "code",
   "execution_count": 27,
   "id": "a8a3c63e",
   "metadata": {},
   "outputs": [],
   "source": [
    "product_name = 'phone'  # Replace with the actual product name\n",
    "search_box = driver.find_element_by_id('nav-bb-search') #this changes time by time\n",
    "search_box.send_keys(product_name)\n",
    "search_box.send_keys(Keys.RETURN)"
   ]
  },
  {
   "cell_type": "code",
   "execution_count": 28,
   "id": "0f597b3d",
   "metadata": {},
   "outputs": [],
   "source": [
    "search_results = driver.find_elements_by_css_selector('[data-component-type=\"s-search-result\"]')"
   ]
  },
  {
   "cell_type": "markdown",
   "id": "21839a67",
   "metadata": {},
   "source": [
    "The square brackets [] in the CSS selector '[data-component-type=\"s-search-result\"]' indicate an attribute selector in CSS.\n",
    "\n",
    "In this specific CSS selector, [data-component-type=\"s-search-result\"], the attribute being targeted is data-component-type, and the value that attribute should have is \"s-search-result\".\n",
    "\n",
    "By using this CSS selector, you are instructing Selenium to find elements that have the attribute data-component-type set to \"s-search-result\". In the case of Amazon search results, each search result item is typically associated with this attribute value.\n",
    "\n",
    "The square brackets, in combination with the attribute selector, allow you to specify more specific criteria for selecting elements based on their attributes. In this case, you are looking for elements that have a specific attribute value to target the search result items on the page."
   ]
  },
  {
   "cell_type": "code",
   "execution_count": 29,
   "id": "20dc71ba",
   "metadata": {},
   "outputs": [],
   "source": [
    "data = []"
   ]
  },
  {
   "cell_type": "code",
   "execution_count": 30,
   "id": "01258349",
   "metadata": {},
   "outputs": [],
   "source": [
    "for result in search_results:\n",
    "    title_element = result.find_element_by_css_selector('.a-text-normal')\n",
    "    title = title_element.text\n",
    "\n",
    "    price_element = result.find_element_by_css_selector('.a-offscreen')\n",
    "    price = price_element.get_attribute('textContent')\n",
    "\n",
    "    review_element = result.find_element_by_css_selector('.a-size-base')\n",
    "    review_count = review_element.get_attribute('textContent')\n",
    "\n",
    "    # Append the data to the list\n",
    "    data.append([title, price, review_count])\n"
   ]
  },
  {
   "cell_type": "code",
   "execution_count": 31,
   "id": "1d027755",
   "metadata": {},
   "outputs": [],
   "source": [
    "output_file = 'amazon_phone data.csv'  # Provide a filename for the output file\n",
    "header = ['Title', 'Price', 'Review Count']"
   ]
  },
  {
   "cell_type": "code",
   "execution_count": 32,
   "id": "f730f880",
   "metadata": {},
   "outputs": [],
   "source": [
    "with open(output_file, 'w', newline='', encoding='utf-8') as csvfile:\n",
    "    writer = csv.writer(csvfile)\n",
    "    writer.writerow(header)\n",
    "    writer.writerows(data)"
   ]
  },
  {
   "cell_type": "code",
   "execution_count": 33,
   "id": "629d81a4",
   "metadata": {},
   "outputs": [],
   "source": [
    "driver.quit()   "
   ]
  },
  {
   "cell_type": "markdown",
   "id": "d471f0a1",
   "metadata": {},
   "source": [
    "Cleanup: Calling driver.quit() is essential for proper resource cleanup. It releases system resources and closes the browser instances opened by the WebDriver. Failing to quit the driver may lead to resource leaks or accumulation of unnecessary browser processes.\n",
    "\n",
    "Session termination: driver.quit() ends the WebDriver session, which effectively terminates the communication between your Python script and the browser controlled by the WebDriver. This is particularly important if you plan to run multiple tests or automation tasks sequentially or in parallel.\n",
    "\n",
    "Avoiding browser instances: If you don't call driver.quit(), the browser window opened by the WebDriver will remain open even after your script finishes execution. This can be inconvenient if you're automating tasks and need the browser to close automatically."
   ]
  },
  {
   "cell_type": "code",
   "execution_count": null,
   "id": "fb1b2405",
   "metadata": {},
   "outputs": [],
   "source": []
  }
 ],
 "metadata": {
  "kernelspec": {
   "display_name": "Python 3 (ipykernel)",
   "language": "python",
   "name": "python3"
  },
  "language_info": {
   "codemirror_mode": {
    "name": "ipython",
    "version": 3
   },
   "file_extension": ".py",
   "mimetype": "text/x-python",
   "name": "python",
   "nbconvert_exporter": "python",
   "pygments_lexer": "ipython3",
   "version": "3.9.13"
  }
 },
 "nbformat": 4,
 "nbformat_minor": 5
}
