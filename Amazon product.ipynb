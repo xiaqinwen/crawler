{
 "cells": [
  {
   "cell_type": "code",
   "execution_count": 28,
   "id": "7dd2c555",
   "metadata": {},
   "outputs": [],
   "source": [
    "import csv\n",
    "from selenium import webdriver\n",
    "from selenium.webdriver.common.keys import Keys\n",
    "from selenium.common.exceptions import NoSuchElementException\n",
    "\n",
    "# Path to the ChromeDriver executable\n",
    "chromedriver_path = r'C:\\Users\\xiaqi\\Downloads\\chromedriver_win32\\chromedriver.exe'\n",
    "\n",
    "# Initialize ChromeDriver\n",
    "driver = webdriver.Chrome(executable_path=chromedriver_path)\n",
    "\n",
    "# Open Amazon website\n",
    "driver.get('https://www.amazon.com/')\n",
    "\n",
    "# Find the search input field\n",
    "search_input = driver.find_element_by_id('twotabsearchtextbox')\n",
    "\n",
    "# Enter your search query\n",
    "search_input.send_keys('laptop')\n",
    "\n",
    "# Press Enter to perform the search\n",
    "search_input.send_keys(Keys.RETURN)\n",
    "\n",
    "# Wait for the search results to load (you can adjust the sleep time as needed)\n",
    "driver.implicitly_wait(5)\n",
    "\n",
    "# Find all the search results\n",
    "search_results = driver.find_elements_by_css_selector('.s-result-item')\n",
    "\n",
    "# Prepare CSV file and header\n",
    "csv_file = 'amazon_results.csv'\n",
    "header = ['Title', 'Price', 'Rating']\n",
    "\n",
    "# Process each search result and write to CSV\n",
    "with open(csv_file, 'w', newline='', encoding='utf-8') as file:\n",
    "    writer = csv.writer(file)\n",
    "    writer.writerow(header)\n",
    "\n",
    "    # Process each search result\n",
    "    for result in search_results:\n",
    "        try:\n",
    "            # Extract the relevant information from the search result\n",
    "            title = result.find_element_by_css_selector('.a-size-base-plus.a-color-base.a-text-normal').text\n",
    "            price = result.find_element_by_css_selector('.a-price-whole').text\n",
    "            rating = result.find_element_by_css_selector('.a-icon-star-small').get_attribute('innerHTML')\n",
    "\n",
    "            # Write the information to CSV\n",
    "            writer.writerow([title, price, rating])\n",
    "\n",
    "        except NoSuchElementException:\n",
    "            # Handle cases where the element is not found\n",
    "            writer.writerow(['N/A', 'N/A', 'N/A'])\n",
    "\n",
    "# Close the browser\n",
    "driver.quit()"
   ]
  },
  {
   "cell_type": "code",
   "execution_count": 11,
   "id": "b579a8ff",
   "metadata": {},
   "outputs": [],
   "source": []
  },
  {
   "cell_type": "code",
   "execution_count": null,
   "id": "03df897a",
   "metadata": {},
   "outputs": [],
   "source": []
  },
  {
   "cell_type": "code",
   "execution_count": null,
   "id": "3bf36b3e",
   "metadata": {},
   "outputs": [],
   "source": []
  },
  {
   "cell_type": "code",
   "execution_count": null,
   "id": "b2547768",
   "metadata": {},
   "outputs": [],
   "source": []
  },
  {
   "cell_type": "code",
   "execution_count": null,
   "id": "73bdf6fd",
   "metadata": {},
   "outputs": [],
   "source": []
  }
 ],
 "metadata": {
  "kernelspec": {
   "display_name": "Python 3 (ipykernel)",
   "language": "python",
   "name": "python3"
  },
  "language_info": {
   "codemirror_mode": {
    "name": "ipython",
    "version": 3
   },
   "file_extension": ".py",
   "mimetype": "text/x-python",
   "name": "python",
   "nbconvert_exporter": "python",
   "pygments_lexer": "ipython3",
   "version": "3.9.13"
  }
 },
 "nbformat": 4,
 "nbformat_minor": 5
}
